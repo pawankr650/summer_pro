{
 "cells": [
  {
   "cell_type": "code",
   "execution_count": null,
   "metadata": {},
   "outputs": [],
   "source": [
    "from selenium import webdriver\n",
    "import time\n",
    "from bs4 import BeautifulSoup\n",
    "from selenium.webdriver.common.by import By\n",
    "from selenium.webdriver.support.ui import WebDriverWait\n",
    "from selenium.webdriver.support import expected_conditions as EC\n",
    "import pandas as pd\n",
    "import csv\n",
    "\n",
    "URL = \"https://summerofcode.withgoogle.com/projects/\"\n",
    "\n",
    "def parse(url):\n",
    "    driver = webdriver.Chrome('/home/pawan/summerpro/chromedriver_linux64/chromedriver')\n",
    "    driver.delete_all_cookies()\n",
    "    driver.get(url)\n",
    "    lenOfPage = driver.execute_script(\"window.scrollTo(0, document.body.scrollHeight);var lenOfPage=document.body.scrollHeight;return lenOfPage;\")\n",
    "    match=False\n",
    "    while(match==False):\n",
    "                lastCount = lenOfPage\n",
    "                time.sleep(9)\n",
    "                lenOfPage = driver.execute_script(\"window.scrollTo(0, document.body.scrollHeight);var lenOfPage=document.body.scrollHeight;return lenOfPage;\")\n",
    "                if lastCount==lenOfPage:\n",
    "                    match=True\n",
    "    try:\n",
    "        WebDriverWait(driver, 30).until(EC.presence_of_element_located((By.ID,\"featured-project\")))\n",
    "    except:\n",
    "        print(\"Exception\")\n",
    "    \n",
    "    finally:\n",
    "        soup = BeautifulSoup(driver.page_source, 'html.parser')\n",
    "        return soup\n",
    "        driver.quit()\n",
    "soup = parse(URL)\n",
    "\n",
    "all = soup.find_all(\"div\", {\"class\": \"pos-rel\"})\n",
    "# all\n",
    "h2=soup.find_all(\"h2\")\n",
    "len(h2)\n",
    "pro=soup.find_all(\"a\", {\"class\": \"md-soc-theme\"},target=\"_self\" ,href=True)\n",
    "pro1 = []\n",
    "for i in pro:\n",
    "    pro1.append(i.next_element.strip())\n",
    "con_pro=[]\n",
    "for i in range(1,2585):\n",
    "    if len(pro[i])>0:\n",
    "        con_pro.append(pro1[i])\n",
    "fin_pro= list(filter(None, con_pro))\n",
    "org = soup.find_all(\"div\", {\"ng-if\":\"::(!fundedProject.orgHidden)\"})\n",
    "org_fin=[]\n",
    "for i in range(2584):\n",
    "    if i%2 != 0:\n",
    "        org_fin.append(org[i].text)\n",
    "\n",
    "with open('/home/pawan/summerproj/gsoc2021.csv','w',newline='') as file:\n",
    "    writer = csv.writer(file)\n",
    "    writer.writerow([\"SN\",\"NAME\",\"Project name\",\"Organisation\"])\n",
    "    for i in range(0,1292):\n",
    "        writer.writerow([i+1,h2[i+1].text,fin_pro[i],org_fin[i]])"
   ]
  },
  {
   "cell_type": "code",
   "execution_count": 11,
   "metadata": {},
   "outputs": [],
   "source": []
  },
  {
   "cell_type": "code",
   "execution_count": null,
   "metadata": {},
   "outputs": [],
   "source": []
  }
 ],
 "metadata": {
  "kernelspec": {
   "display_name": "Python 3",
   "language": "python",
   "name": "python3"
  },
  "language_info": {
   "codemirror_mode": {
    "name": "ipython",
    "version": 3
   },
   "file_extension": ".py",
   "mimetype": "text/x-python",
   "name": "python",
   "nbconvert_exporter": "python",
   "pygments_lexer": "ipython3",
   "version": "3.7.4"
  }
 },
 "nbformat": 4,
 "nbformat_minor": 2
}
